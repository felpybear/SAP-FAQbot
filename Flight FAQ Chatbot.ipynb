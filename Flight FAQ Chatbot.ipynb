{
 "cells": [
  {
   "cell_type": "markdown",
   "metadata": {
    "id": "faUojVtgaTGc"
   },
   "source": [
    "# Flight FAQ Chatbot"
   ]
  },
  {
   "cell_type": "markdown",
   "metadata": {
    "id": "pNceALtVaTGc"
   },
   "source": [
    "## 1. Adding knowledge base to your chatbot\n",
    "\n",
    "The Chatbot's ability to converse is defined by the data available to it. Take a look at the Ques.txt file to find questions and ans.txt file to find answers to those questions. This chatbot will essentially run a cosine similarity on a question posed with the question bank and try to find an answer. \n",
    "\n",
    "Let us begin by importing relevant libraries."
   ]
  },
  {
   "cell_type": "code",
   "execution_count": 1,
   "metadata": {
    "executionInfo": {
     "elapsed": 3,
     "status": "ok",
     "timestamp": 1625201864601,
     "user": {
      "displayName": "Albert Anthony",
      "photoUrl": "",
      "userId": "06779463251817115427"
     },
     "user_tz": -420
    },
    "id": "e__0bwBTaTGd"
   },
   "outputs": [],
   "source": [
    "import nltk # to process text data\n",
    "import numpy as np # to represent corpus as arrays\n",
    "import random \n",
    "import operator\n",
    "import string # to process standard python strings\n",
    "\n",
    "# We will use this later to decide how similar two sentences are\n",
    "from sklearn.metrics.pairwise import cosine_similarity \n",
    "\n",
    "# Remember when you built a function to create a tfidf bag of words in Experience 2? This function does the same thing!\n",
    "from sklearn.feature_extraction.text import TfidfVectorizer "
   ]
  },
  {
   "cell_type": "code",
   "execution_count": 2,
   "metadata": {
    "colab": {
     "base_uri": "https://localhost:8080/"
    },
    "executionInfo": {
     "elapsed": 539,
     "status": "ok",
     "timestamp": 1625201865138,
     "user": {
      "displayName": "Albert Anthony",
      "photoUrl": "",
      "userId": "06779463251817115427"
     },
     "user_tz": -420
    },
    "id": "R08PteSZaTGd",
    "outputId": "f9bf11e9-f1b9-45c7-91b2-70fdc692dc29"
   },
   "outputs": [
    {
     "name": "stdout",
     "output_type": "stream",
     "text": [
      "You can use YM49, be aware that you can only send the same FPV filename once in a day, the \"day\" for the batch plan tool starts at 4 PM.\n",
      "\n",
      "What is the transaction to send the FPV?\n",
      "\n"
     ]
    }
   ],
   "source": [
    "import os\n",
    "filepath = os.getcwd()+r'\\\\SAP FAQ Answers.txt'\n",
    "corpus = open(filepath,'r',errors = 'ignore')\n",
    "raw_data_ans = corpus.read()\n",
    "print (raw_data_ans)\n",
    "\n",
    "filepath = os.getcwd()+'\\\\SAP FAQ Questions.txt'\n",
    "corpus = open(filepath,'r',errors = 'ignore')\n",
    "raw_data = corpus.read()\n",
    "print (raw_data)"
   ]
  },
  {
   "cell_type": "markdown",
   "metadata": {
    "id": "3lJ5dsOvaTGo"
   },
   "source": [
    "#  Conversion to lower case\n",
    "\n",
    "We will convert all text to lower case first. Remember to inspect the result once we are done."
   ]
  },
  {
   "cell_type": "code",
   "execution_count": 3,
   "metadata": {
    "colab": {
     "base_uri": "https://localhost:8080/"
    },
    "executionInfo": {
     "elapsed": 5,
     "status": "ok",
     "timestamp": 1625201865139,
     "user": {
      "displayName": "Albert Anthony",
      "photoUrl": "",
      "userId": "06779463251817115427"
     },
     "user_tz": -420
    },
    "id": "KdWMJwPfaTGo",
    "outputId": "5b193850-dbbf-4622-aba8-69343552090f"
   },
   "outputs": [
    {
     "name": "stdout",
     "output_type": "stream",
     "text": [
      "what is the transaction to send the fpv?\n",
      "\n"
     ]
    }
   ],
   "source": [
    "raw_data=raw_data.lower() # converts to lowercase\n",
    "print (raw_data)"
   ]
  },
  {
   "cell_type": "markdown",
   "metadata": {
    "id": "t729o2v7aTGp"
   },
   "source": [
    "####  Segmentation, Lematization and tokenization\n",
    "\n",
    "We will convert all text to lower case first. Remember to inspect the result once we are done."
   ]
  },
  {
   "cell_type": "code",
   "execution_count": 5,
   "metadata": {
    "colab": {
     "base_uri": "https://localhost:8080/"
    },
    "executionInfo": {
     "elapsed": 359,
     "status": "ok",
     "timestamp": 1625201872991,
     "user": {
      "displayName": "Albert Anthony",
      "photoUrl": "",
      "userId": "06779463251817115427"
     },
     "user_tz": -420
    },
    "id": "bd6adnm0aTGp",
    "outputId": "3ebb414b-4af6-4b08-b180-c9a9a750ea0c"
   },
   "outputs": [
    {
     "name": "stderr",
     "output_type": "stream",
     "text": [
      "[nltk_data] Error loading punkt: <urlopen error [WinError 10060] A\n",
      "[nltk_data]     connection attempt failed because the connected party\n",
      "[nltk_data]     did not properly respond after a period of time, or\n",
      "[nltk_data]     established connection failed because connected host\n",
      "[nltk_data]     has failed to respond>\n",
      "[nltk_data] Error loading wordnet: <urlopen error [WinError 10060] A\n",
      "[nltk_data]     connection attempt failed because the connected party\n",
      "[nltk_data]     did not properly respond after a period of time, or\n",
      "[nltk_data]     established connection failed because connected host\n",
      "[nltk_data]     has failed to respond>\n"
     ]
    },
    {
     "ename": "LookupError",
     "evalue": "\n**********************************************************************\n  Resource \u001b[93mpunkt\u001b[0m not found.\n  Please use the NLTK Downloader to obtain the resource:\n\n  \u001b[31m>>> import nltk\n  >>> nltk.download('punkt')\n  \u001b[0m\n  For more information see: https://www.nltk.org/data.html\n\n  Attempted to load \u001b[93mtokenizers/punkt/english.pickle\u001b[0m\n\n  Searched in:\n    - 'C:\\\\Users\\\\carolina.filippini/nltk_data'\n    - 'C:\\\\Users\\\\carolina.filippini\\\\Anaconda3\\\\nltk_data'\n    - 'C:\\\\Users\\\\carolina.filippini\\\\Anaconda3\\\\share\\\\nltk_data'\n    - 'C:\\\\Users\\\\carolina.filippini\\\\Anaconda3\\\\lib\\\\nltk_data'\n    - 'C:\\\\Users\\\\carolina.filippini\\\\AppData\\\\Roaming\\\\nltk_data'\n    - 'C:\\\\nltk_data'\n    - 'D:\\\\nltk_data'\n    - 'E:\\\\nltk_data'\n    - ''\n**********************************************************************\n",
     "output_type": "error",
     "traceback": [
      "\u001b[1;31m---------------------------------------------------------------------------\u001b[0m",
      "\u001b[1;31mLookupError\u001b[0m                               Traceback (most recent call last)",
      "\u001b[1;32mC:\\Users\\CAROLI~1.FIL\\AppData\\Local\\Temp/ipykernel_2516/2319924316.py\u001b[0m in \u001b[0;36m<module>\u001b[1;34m\u001b[0m\n\u001b[0;32m      2\u001b[0m \u001b[0mnltk\u001b[0m\u001b[1;33m.\u001b[0m\u001b[0mdownload\u001b[0m\u001b[1;33m(\u001b[0m\u001b[1;34m'punkt'\u001b[0m\u001b[1;33m)\u001b[0m\u001b[1;33m\u001b[0m\u001b[1;33m\u001b[0m\u001b[0m\n\u001b[0;32m      3\u001b[0m \u001b[0mnltk\u001b[0m\u001b[1;33m.\u001b[0m\u001b[0mdownload\u001b[0m\u001b[1;33m(\u001b[0m\u001b[1;34m'wordnet'\u001b[0m\u001b[1;33m)\u001b[0m\u001b[1;33m\u001b[0m\u001b[1;33m\u001b[0m\u001b[0m\n\u001b[1;32m----> 4\u001b[1;33m \u001b[0msent_tokens\u001b[0m \u001b[1;33m=\u001b[0m \u001b[0mnltk\u001b[0m\u001b[1;33m.\u001b[0m\u001b[0msent_tokenize\u001b[0m\u001b[1;33m(\u001b[0m\u001b[0mraw_data\u001b[0m\u001b[1;33m)\u001b[0m \u001b[1;31m# converts documents to list of sentences\u001b[0m\u001b[1;33m\u001b[0m\u001b[1;33m\u001b[0m\u001b[0m\n\u001b[0m\u001b[0;32m      5\u001b[0m \u001b[1;33m\u001b[0m\u001b[0m\n\u001b[0;32m      6\u001b[0m \u001b[0mprint\u001b[0m\u001b[1;33m(\u001b[0m\u001b[0msent_tokens\u001b[0m\u001b[1;33m)\u001b[0m\u001b[1;33m\u001b[0m\u001b[1;33m\u001b[0m\u001b[0m\n",
      "\u001b[1;32m~\\Anaconda3\\lib\\site-packages\\nltk\\tokenize\\__init__.py\u001b[0m in \u001b[0;36msent_tokenize\u001b[1;34m(text, language)\u001b[0m\n\u001b[0;32m    104\u001b[0m     \u001b[1;33m:\u001b[0m\u001b[0mparam\u001b[0m \u001b[0mlanguage\u001b[0m\u001b[1;33m:\u001b[0m \u001b[0mthe\u001b[0m \u001b[0mmodel\u001b[0m \u001b[0mname\u001b[0m \u001b[1;32min\u001b[0m \u001b[0mthe\u001b[0m \u001b[0mPunkt\u001b[0m \u001b[0mcorpus\u001b[0m\u001b[1;33m\u001b[0m\u001b[1;33m\u001b[0m\u001b[0m\n\u001b[0;32m    105\u001b[0m     \"\"\"\n\u001b[1;32m--> 106\u001b[1;33m     \u001b[0mtokenizer\u001b[0m \u001b[1;33m=\u001b[0m \u001b[0mload\u001b[0m\u001b[1;33m(\u001b[0m\u001b[1;34mf\"tokenizers/punkt/{language}.pickle\"\u001b[0m\u001b[1;33m)\u001b[0m\u001b[1;33m\u001b[0m\u001b[1;33m\u001b[0m\u001b[0m\n\u001b[0m\u001b[0;32m    107\u001b[0m     \u001b[1;32mreturn\u001b[0m \u001b[0mtokenizer\u001b[0m\u001b[1;33m.\u001b[0m\u001b[0mtokenize\u001b[0m\u001b[1;33m(\u001b[0m\u001b[0mtext\u001b[0m\u001b[1;33m)\u001b[0m\u001b[1;33m\u001b[0m\u001b[1;33m\u001b[0m\u001b[0m\n\u001b[0;32m    108\u001b[0m \u001b[1;33m\u001b[0m\u001b[0m\n",
      "\u001b[1;32m~\\Anaconda3\\lib\\site-packages\\nltk\\data.py\u001b[0m in \u001b[0;36mload\u001b[1;34m(resource_url, format, cache, verbose, logic_parser, fstruct_reader, encoding)\u001b[0m\n\u001b[0;32m    748\u001b[0m \u001b[1;33m\u001b[0m\u001b[0m\n\u001b[0;32m    749\u001b[0m     \u001b[1;31m# Load the resource.\u001b[0m\u001b[1;33m\u001b[0m\u001b[1;33m\u001b[0m\u001b[0m\n\u001b[1;32m--> 750\u001b[1;33m     \u001b[0mopened_resource\u001b[0m \u001b[1;33m=\u001b[0m \u001b[0m_open\u001b[0m\u001b[1;33m(\u001b[0m\u001b[0mresource_url\u001b[0m\u001b[1;33m)\u001b[0m\u001b[1;33m\u001b[0m\u001b[1;33m\u001b[0m\u001b[0m\n\u001b[0m\u001b[0;32m    751\u001b[0m \u001b[1;33m\u001b[0m\u001b[0m\n\u001b[0;32m    752\u001b[0m     \u001b[1;32mif\u001b[0m \u001b[0mformat\u001b[0m \u001b[1;33m==\u001b[0m \u001b[1;34m\"raw\"\u001b[0m\u001b[1;33m:\u001b[0m\u001b[1;33m\u001b[0m\u001b[1;33m\u001b[0m\u001b[0m\n",
      "\u001b[1;32m~\\Anaconda3\\lib\\site-packages\\nltk\\data.py\u001b[0m in \u001b[0;36m_open\u001b[1;34m(resource_url)\u001b[0m\n\u001b[0;32m    874\u001b[0m \u001b[1;33m\u001b[0m\u001b[0m\n\u001b[0;32m    875\u001b[0m     \u001b[1;32mif\u001b[0m \u001b[0mprotocol\u001b[0m \u001b[1;32mis\u001b[0m \u001b[1;32mNone\u001b[0m \u001b[1;32mor\u001b[0m \u001b[0mprotocol\u001b[0m\u001b[1;33m.\u001b[0m\u001b[0mlower\u001b[0m\u001b[1;33m(\u001b[0m\u001b[1;33m)\u001b[0m \u001b[1;33m==\u001b[0m \u001b[1;34m\"nltk\"\u001b[0m\u001b[1;33m:\u001b[0m\u001b[1;33m\u001b[0m\u001b[1;33m\u001b[0m\u001b[0m\n\u001b[1;32m--> 876\u001b[1;33m         \u001b[1;32mreturn\u001b[0m \u001b[0mfind\u001b[0m\u001b[1;33m(\u001b[0m\u001b[0mpath_\u001b[0m\u001b[1;33m,\u001b[0m \u001b[0mpath\u001b[0m \u001b[1;33m+\u001b[0m \u001b[1;33m[\u001b[0m\u001b[1;34m\"\"\u001b[0m\u001b[1;33m]\u001b[0m\u001b[1;33m)\u001b[0m\u001b[1;33m.\u001b[0m\u001b[0mopen\u001b[0m\u001b[1;33m(\u001b[0m\u001b[1;33m)\u001b[0m\u001b[1;33m\u001b[0m\u001b[1;33m\u001b[0m\u001b[0m\n\u001b[0m\u001b[0;32m    877\u001b[0m     \u001b[1;32melif\u001b[0m \u001b[0mprotocol\u001b[0m\u001b[1;33m.\u001b[0m\u001b[0mlower\u001b[0m\u001b[1;33m(\u001b[0m\u001b[1;33m)\u001b[0m \u001b[1;33m==\u001b[0m \u001b[1;34m\"file\"\u001b[0m\u001b[1;33m:\u001b[0m\u001b[1;33m\u001b[0m\u001b[1;33m\u001b[0m\u001b[0m\n\u001b[0;32m    878\u001b[0m         \u001b[1;31m# urllib might not use mode='rb', so handle this one ourselves:\u001b[0m\u001b[1;33m\u001b[0m\u001b[1;33m\u001b[0m\u001b[0m\n",
      "\u001b[1;32m~\\Anaconda3\\lib\\site-packages\\nltk\\data.py\u001b[0m in \u001b[0;36mfind\u001b[1;34m(resource_name, paths)\u001b[0m\n\u001b[0;32m    581\u001b[0m     \u001b[0msep\u001b[0m \u001b[1;33m=\u001b[0m \u001b[1;34m\"*\"\u001b[0m \u001b[1;33m*\u001b[0m \u001b[1;36m70\u001b[0m\u001b[1;33m\u001b[0m\u001b[1;33m\u001b[0m\u001b[0m\n\u001b[0;32m    582\u001b[0m     \u001b[0mresource_not_found\u001b[0m \u001b[1;33m=\u001b[0m \u001b[1;34mf\"\\n{sep}\\n{msg}\\n{sep}\\n\"\u001b[0m\u001b[1;33m\u001b[0m\u001b[1;33m\u001b[0m\u001b[0m\n\u001b[1;32m--> 583\u001b[1;33m     \u001b[1;32mraise\u001b[0m \u001b[0mLookupError\u001b[0m\u001b[1;33m(\u001b[0m\u001b[0mresource_not_found\u001b[0m\u001b[1;33m)\u001b[0m\u001b[1;33m\u001b[0m\u001b[1;33m\u001b[0m\u001b[0m\n\u001b[0m\u001b[0;32m    584\u001b[0m \u001b[1;33m\u001b[0m\u001b[0m\n\u001b[0;32m    585\u001b[0m \u001b[1;33m\u001b[0m\u001b[0m\n",
      "\u001b[1;31mLookupError\u001b[0m: \n**********************************************************************\n  Resource \u001b[93mpunkt\u001b[0m not found.\n  Please use the NLTK Downloader to obtain the resource:\n\n  \u001b[31m>>> import nltk\n  >>> nltk.download('punkt')\n  \u001b[0m\n  For more information see: https://www.nltk.org/data.html\n\n  Attempted to load \u001b[93mtokenizers/punkt/english.pickle\u001b[0m\n\n  Searched in:\n    - 'C:\\\\Users\\\\carolina.filippini/nltk_data'\n    - 'C:\\\\Users\\\\carolina.filippini\\\\Anaconda3\\\\nltk_data'\n    - 'C:\\\\Users\\\\carolina.filippini\\\\Anaconda3\\\\share\\\\nltk_data'\n    - 'C:\\\\Users\\\\carolina.filippini\\\\Anaconda3\\\\lib\\\\nltk_data'\n    - 'C:\\\\Users\\\\carolina.filippini\\\\AppData\\\\Roaming\\\\nltk_data'\n    - 'C:\\\\nltk_data'\n    - 'D:\\\\nltk_data'\n    - 'E:\\\\nltk_data'\n    - ''\n**********************************************************************\n"
     ]
    }
   ],
   "source": [
    "import nltk\n",
    "nltk.download('punkt')\n",
    "nltk.download('wordnet')\n",
    "sent_tokens = nltk.sent_tokenize(raw_data) # converts documents to list of sentences \n",
    "\n",
    "print(sent_tokens)"
   ]
  },
  {
   "cell_type": "code",
   "execution_count": 27,
   "metadata": {
    "colab": {
     "base_uri": "https://localhost:8080/"
    },
    "executionInfo": {
     "elapsed": 502,
     "status": "ok",
     "timestamp": 1625201873809,
     "user": {
      "displayName": "Albert Anthony",
      "photoUrl": "",
      "userId": "06779463251817115427"
     },
     "user_tz": -420
    },
    "id": "RRuhV6wnaTGp",
    "outputId": "45b8a5aa-6e51-4684-c6f5-fdd3c1963a86"
   },
   "outputs": [
    {
     "name": "stdout",
     "output_type": "stream",
     "text": [
      "['We accept Visa, MasterCard and American Express credit cards, if you need to pay with two different cards, please call our Contact Center.', 'Yes, the data you provide is encrypted, in this way we can offer you a safe experience with every transaction.', 'No, to guarantee your accommodation, it is necessary to complete your payment with a valid credit card.', 'Yes, every reservation made through our official website or our Contact Center will require to cover 100% of the total payment of the reservation.', 'Hotel Xcaret Arte is located in front of the Caribbean Sea, next to Hotel Xcaret Mexico 15 minutes away from Playa del Carmen 45 minutes away from Cancun International Airport 45 minutes away.', 'Yes for your comfort and enjoyment, the hotels are beach front and have signalized accesses.', 'Hotel Xcaret Mexico and Hotel Xcaret Art own 900 suites and La Casa de la Playa owns 63 suites.', 'Yes, the hotels have ramps and wheelchair access at your disposal, as well as, some suites are setup for them.', 'Casa Fuego at Hotel Xcaret Mexico is an Adults Only section (+18 years old) situated right in front of the Caribbean Sea, Hotel Xcaret Arte is an Adults Only experience, We welcome young people 16 years or older, if and when they are accompanied by their parents or legal guardians, La Casa de la Playa is an Adults Only boutique hotel (+18 years old).', 'The Check-in is at 15:00 h and check-out is at noon.', 'The access to the parks will be granted from the moment you check-in, as it is necessary that you possess the digital bracelet that will give you an automatic access.', 'The hotels offer early check-in (13:00 h) and late check-out (14:00 h) services, subject to availability and additional charges, If you arrive before the check-in, we have a section available to hold your luggage.', 'The suites have a maximum capacity of 3 people, depending on the category, In the Master Suite category 5 people are allowed, and in the Presidential Suite, up to 6 people.', 'At the time of booking we will provide you a section where you will be able to send us your requests, Please note that any request will be subject to availability and/or may result in additional charges.', 'No, due to security reasons and privacy of our guests, the access to people, who are not registered in the Hotel will not be allowed.', \"No, you can't, The suites are non-smoking.\", 'The hotels do no offer the extra beds service, however, each suite has a double sofa-bed.', 'Yes, We offer a vegetarian menu or vegan options in every restaurant, Please inform your Guest Service Manager about your food preferences.', 'No, some restaurants are subject to seasonal availability.', 'The shuttle service (shared) does not require any booking, However, if the suite that you booked offers private service, your confirmation to your Guest Service Manager is necessary within at least 24 hours in advance.', 'Yes, they offer gyms (some are exclusive for certain Casas) and access to other physical activities that vary in each hotel.', 'Yes, WIFI is included in every area and suite.', 'Parks Xcaret, Xplor, Xplor Fuego and Xenses do not require booking.', 'Yes, Hotel Xcaret Mexico, Hotel Xcaret Arte and La Casa de la Playa are pet-friendly, so that you can stay with your pet.', \"Yes, the hotels offer different kind of packages to celebrate that special moment, We have open spaces, beautiful halls and exclusive spaces in our parks, Check with your Guest Service Manager for more information or enter it in the 'Wedding' section.\", 'Allow our flawless service and specialized personnel to contribute in making your dream come true, Please write toÂ\\xa0customerservice@hotelxcaret.comÂ\\xa0to start the preparation of the best day of your life.', 'For group estimates please write toÂ\\xa0groups@hotelxcaret.com, who will gladly help you with your request.', 'Yes, our ALL-FUN INCLUSIVE concept includes unlimited access to Xcaret, Xel-Ha, Xplor, Xplor Fuego, Xenses, Xavage, Xoximilco, Xenotes, Transportation is also included.', 'Yes, the ALL-FUN INCLUSIVE concept contemplates the round-trip ferry trip from Cancun to Isla Mujeres, Transportation service to the Embarcadero Isla Mujeres por Xcaret in the Cancun Hotel Zone is also included.', \"No, you don't, It's not necessary to book a minimum number of nights, You will be able to enjoy our parks even with 1 night's stay, If you need more information or assistance, please check with your Guest Servide Manager.\", \"Yes, except for the following:Ha' restaurant at Hotel Xcaret MexicoXaak restaurant at Hotel Xcaret ArteSome restaurants are exclusive to certain Casas:Fuego at Casa Fuego at Hotel Xcaret MexicoKibi-Kibi at Casa de los Artistas at Hotel Xcaret Arte.\", 'Some parks have meals and beverages included.', 'To enjoy the Xcaret, Xplor, Xplor Fuego and Xenses, just board the shuttle that leaves every 20-30 minutes from the motor lobby, For other parks, please verify the service schedules and reservations with your Guest Service Manager.', 'Yes, The artistic workshops are exclusive to Hotel Xcaret Arte guests, Verify restrictions and schedules with your Guest Service Manager.', 'No, The spa treatments are not included in the ALL-FUN INCLUSIVE.', 'No, The optional activities are not included and must be paid for at the time of booking an activity.', 'No, Photos are not included.', 'No, Photos of your visit to the parks are not included, however you will get a special discount for Hotel Xcaret Arte guests, Verify the price with your Guest Service Manager.']\n"
     ]
    }
   ],
   "source": [
    "filepath = os.getcwd()+r'\\\\Chatbot answers.txt'\n",
    "corpus = open(filepath,'r',errors = 'ignore')\n",
    "raw_data_ans = corpus.read()\n",
    "\n",
    "sent_tokens_ans = nltk.sent_tokenize(raw_data_ans)# converts documents to list of sentences \n",
    "\n",
    "print(sent_tokens_ans)"
   ]
  },
  {
   "cell_type": "code",
   "execution_count": 28,
   "metadata": {},
   "outputs": [
    {
     "name": "stdout",
     "output_type": "stream",
     "text": [
      "1 - We accept Visa, MasterCard and American Express credit cards, if you need to pay with two different cards, please call our Contact Center. \n",
      "\n",
      "2 - Yes, the data you provide is encrypted, in this way we can offer you a safe experience with every transaction. \n",
      "\n",
      "3 - No, to guarantee your accommodation, it is necessary to complete your payment with a valid credit card. \n",
      "\n",
      "4 - Yes, every reservation made through our official website or our Contact Center will require to cover 100% of the total payment of the reservation. \n",
      "\n",
      "5 - Hotel Xcaret Arte is located in front of the Caribbean Sea, next to Hotel Xcaret Mexico 15 minutes away from Playa del Carmen 45 minutes away from Cancun International Airport 45 minutes away. \n",
      "\n",
      "6 - Yes for your comfort and enjoyment, the hotels are beach front and have signalized accesses. \n",
      "\n",
      "7 - Hotel Xcaret Mexico and Hotel Xcaret Art own 900 suites and La Casa de la Playa owns 63 suites. \n",
      "\n",
      "8 - Yes, the hotels have ramps and wheelchair access at your disposal, as well as, some suites are setup for them. \n",
      "\n",
      "9 - Casa Fuego at Hotel Xcaret Mexico is an Adults Only section (+18 years old) situated right in front of the Caribbean Sea, Hotel Xcaret Arte is an Adults Only experience, We welcome young people 16 years or older, if and when they are accompanied by their parents or legal guardians, La Casa de la Playa is an Adults Only boutique hotel (+18 years old). \n",
      "\n",
      "10 - The Check-in is at 15:00 h and check-out is at noon. \n",
      "\n",
      "11 - The access to the parks will be granted from the moment you check-in, as it is necessary that you possess the digital bracelet that will give you an automatic access. \n",
      "\n",
      "12 - The hotels offer early check-in (13:00 h) and late check-out (14:00 h) services, subject to availability and additional charges, If you arrive before the check-in, we have a section available to hold your luggage. \n",
      "\n",
      "13 - The suites have a maximum capacity of 3 people, depending on the category, In the Master Suite category 5 people are allowed, and in the Presidential Suite, up to 6 people. \n",
      "\n",
      "14 - At the time of booking we will provide you a section where you will be able to send us your requests, Please note that any request will be subject to availability and/or may result in additional charges. \n",
      "\n",
      "15 - No, due to security reasons and privacy of our guests, the access to people, who are not registered in the Hotel will not be allowed. \n",
      "\n",
      "16 - No, you can't, The suites are non-smoking. \n",
      "\n",
      "17 - The hotels do no offer the extra beds service, however, each suite has a double sofa-bed. \n",
      "\n",
      "18 - Yes, We offer a vegetarian menu or vegan options in every restaurant, Please inform your Guest Service Manager about your food preferences. \n",
      "\n",
      "19 - No, some restaurants are subject to seasonal availability. \n",
      "\n",
      "20 - The shuttle service (shared) does not require any booking, However, if the suite that you booked offers private service, your confirmation to your Guest Service Manager is necessary within at least 24 hours in advance. \n",
      "\n",
      "21 - Yes, they offer gyms (some are exclusive for certain Casas) and access to other physical activities that vary in each hotel. \n",
      "\n",
      "22 - Yes, WIFI is included in every area and suite. \n",
      "\n",
      "23 - Parks Xcaret, Xplor, Xplor Fuego and Xenses do not require booking. \n",
      "\n",
      "24 - Yes, Hotel Xcaret Mexico, Hotel Xcaret Arte and La Casa de la Playa are pet-friendly, so that you can stay with your pet. \n",
      "\n",
      "25 - Yes, the hotels offer different kind of packages to celebrate that special moment, We have open spaces, beautiful halls and exclusive spaces in our parks, Check with your Guest Service Manager for more information or enter it in the 'Wedding' section. \n",
      "\n",
      "26 - Allow our flawless service and specialized personnel to contribute in making your dream come true, Please write toÂ customerservice@hotelxcaret.comÂ to start the preparation of the best day of your life. \n",
      "\n",
      "27 - For group estimates please write toÂ groups@hotelxcaret.com, who will gladly help you with your request. \n",
      "\n",
      "28 - Yes, our ALL-FUN INCLUSIVE concept includes unlimited access to Xcaret, Xel-Ha, Xplor, Xplor Fuego, Xenses, Xavage, Xoximilco, Xenotes, Transportation is also included. \n",
      "\n",
      "29 - Yes, the ALL-FUN INCLUSIVE concept contemplates the round-trip ferry trip from Cancun to Isla Mujeres, Transportation service to the Embarcadero Isla Mujeres por Xcaret in the Cancun Hotel Zone is also included. \n",
      "\n",
      "30 - No, you don't, It's not necessary to book a minimum number of nights, You will be able to enjoy our parks even with 1 night's stay, If you need more information or assistance, please check with your Guest Servide Manager. \n",
      "\n",
      "31 - Yes, except for the following:Ha' restaurant at Hotel Xcaret MexicoXaak restaurant at Hotel Xcaret ArteSome restaurants are exclusive to certain Casas:Fuego at Casa Fuego at Hotel Xcaret MexicoKibi-Kibi at Casa de los Artistas at Hotel Xcaret Arte. \n",
      "\n",
      "32 - Some parks have meals and beverages included. \n",
      "\n",
      "33 - To enjoy the Xcaret, Xplor, Xplor Fuego and Xenses, just board the shuttle that leaves every 20-30 minutes from the motor lobby, For other parks, please verify the service schedules and reservations with your Guest Service Manager. \n",
      "\n",
      "34 - Yes, The artistic workshops are exclusive to Hotel Xcaret Arte guests, Verify restrictions and schedules with your Guest Service Manager. \n",
      "\n",
      "35 - No, The spa treatments are not included in the ALL-FUN INCLUSIVE. \n",
      "\n",
      "36 - No, The optional activities are not included and must be paid for at the time of booking an activity. \n",
      "\n",
      "37 - No, Photos are not included. \n",
      "\n",
      "38 - No, Photos of your visit to the parks are not included, however you will get a special discount for Hotel Xcaret Arte guests, Verify the price with your Guest Service Manager. \n",
      "\n"
     ]
    }
   ],
   "source": [
    "cont = 1\n",
    "for i in sent_tokens_ans:\n",
    "    print (cont , '-' , i , '\\n')\n",
    "    cont+= 1"
   ]
  },
  {
   "cell_type": "code",
   "execution_count": 29,
   "metadata": {},
   "outputs": [
    {
     "name": "stdout",
     "output_type": "stream",
     "text": [
      "38\n",
      "38\n"
     ]
    }
   ],
   "source": [
    "print(len(sent_tokens))\n",
    "print(len(sent_tokens_ans))"
   ]
  },
  {
   "cell_type": "code",
   "execution_count": 30,
   "metadata": {
    "colab": {
     "base_uri": "https://localhost:8080/"
    },
    "executionInfo": {
     "elapsed": 1,
     "status": "ok",
     "timestamp": 1625201874211,
     "user": {
      "displayName": "Albert Anthony",
      "photoUrl": "",
      "userId": "06779463251817115427"
     },
     "user_tz": -420
    },
    "id": "h6JFAfDRaTGp",
    "outputId": "11eb25dd-d12b-4b5a-bf22-710a50655835",
    "scrolled": true
   },
   "outputs": [
    {
     "name": "stdout",
     "output_type": "stream",
     "text": [
      "{'which payment methods are accepted at hotel xcaret mexico, hotel xcaret arte and la casa de la playa?': 'We accept Visa, MasterCard and American Express credit cards, if you need to pay with two different cards, please call our Contact Center.', 'is my credit card data safe at the time of booking my reservation?': 'Yes, the data you provide is encrypted, in this way we can offer you a safe experience with every transaction.', 'could i pay for my reservation at the time of check-in at the hotel?': 'No, to guarantee your accommodation, it is necessary to complete your payment with a valid credit card.', 'will my credit card be charged at the time of booking my reservation on the website or on the phone?': 'Yes, every reservation made through our official website or our Contact Center will require to cover 100% of the total payment of the reservation.', 'where is hotel xcaret mexico, hotel xcaret arte and la casa de la playa located?': 'Hotel Xcaret Arte is located in front of the Caribbean Sea, next to Hotel Xcaret Mexico 15 minutes away from Playa del Carmen 45 minutes away from Cancun International Airport 45 minutes away.', 'are hotel xcaret mexico, hotel xcaret arte and la casa de la playa beach front?': 'Yes for your comfort and enjoyment, the hotels are beach front and have signalized accesses.', 'how many suites are there in hotel xcaret mexico, hotel xcaret arte and la casa de la playa?': 'Hotel Xcaret Mexico and Hotel Xcaret Art own 900 suites and La Casa de la Playa owns 63 suites.', 'are hotel xcaret mexico, hotel xcaret arte and la casa de la playa disabled friendly?': 'Yes, the hotels have ramps and wheelchair access at your disposal, as well as, some suites are setup for them.', 'do hotel xcaret mexico, hotel xcaret arte and la casa de la playa have an adults only section?': 'Casa Fuego at Hotel Xcaret Mexico is an Adults Only section (+18 years old) situated right in front of the Caribbean Sea, Hotel Xcaret Arte is an Adults Only experience, We welcome young people 16 years or older, if and when they are accompanied by their parents or legal guardians, La Casa de la Playa is an Adults Only boutique hotel (+18 years old).', 'what time is the check-in and check-out at hotel xcaret mexico, hotel xcaret arte and la casa de la playa?': 'The Check-in is at 15:00 h and check-out is at noon.', 'what time can i access the parks on the check-in and check out dates?': 'The access to the parks will be granted from the moment you check-in, as it is necessary that you possess the digital bracelet that will give you an automatic access.', 'is it possible to have an early check-in and/or late check-out?': 'The hotels offer early check-in (13:00 h) and late check-out (14:00 h) services, subject to availability and additional charges, If you arrive before the check-in, we have a section available to hold your luggage.', 'what is the maximum capacity of each suite?': 'The suites have a maximum capacity of 3 people, depending on the category, In the Master Suite category 5 people are allowed, and in the Presidential Suite, up to 6 people.', 'what should i do if i have a special request?': 'At the time of booking we will provide you a section where you will be able to send us your requests, Please note that any request will be subject to availability and/or may result in additional charges.', 'can i invite people who are not saying at hotel xcaret mexico, hotel xcaret arte or la casa de la playa in my suite?': 'No, due to security reasons and privacy of our guests, the access to people, who are not registered in the Hotel will not be allowed.', 'can i smoke in my suite?': \"No, you can't, The suites are non-smoking.\", 'do hotel xcaret mexico, hotel xcaret arte and la casa de la playa offer extra beds?': 'The hotels do no offer the extra beds service, however, each suite has a double sofa-bed.', 'are there any vegetarian or vegan options in the restaurants of hotel xcaret mexico, hotel xcaret arte and la casa de la playa?': 'Yes, We offer a vegetarian menu or vegan options in every restaurant, Please inform your Guest Service Manager about your food preferences.', 'are restaurants and bars open in all seasons?': 'No, some restaurants are subject to seasonal availability.', 'do i need to book my airport-hotel shuttle?': 'The shuttle service (shared) does not require any booking, However, if the suite that you booked offers private service, your confirmation to your Guest Service Manager is necessary within at least 24 hours in advance.', 'do hotel xcaret mexico, hotel xcaret arte and la casa de la playa have any sport facilities?': 'Yes, they offer gyms (some are exclusive for certain Casas) and access to other physical activities that vary in each hotel.', 'is wifi included at hotel xcaret mexico, hotel xcaret arte and la casa de la playa?': 'Yes, WIFI is included in every area and suite.', 'do visits to parks of grupo xcaret require booking?': 'Parks Xcaret, Xplor, Xplor Fuego and Xenses do not require booking.', 'are hotel xcaret mexico, hotel xcaret arte and la casa de la playa pet-friendly?': 'Yes, Hotel Xcaret Mexico, Hotel Xcaret Arte and La Casa de la Playa are pet-friendly, so that you can stay with your pet.', 'do hotel xcaret mexico, hotel xcaret arte and la casa de la playa offer special packages for weddings or honeymoon?': \"Yes, the hotels offer different kind of packages to celebrate that special moment, We have open spaces, beautiful halls and exclusive spaces in our parks, Check with your Guest Service Manager for more information or enter it in the 'Wedding' section.\", 'how can i get an estimate for a wedding?': 'Allow our flawless service and specialized personnel to contribute in making your dream come true, Please write toÂ\\xa0customerservice@hotelxcaret.comÂ\\xa0to start the preparation of the best day of your life.', 'how can i get an estimate for a group stay?': 'For group estimates please write toÂ\\xa0groups@hotelxcaret.com, who will gladly help you with your request.', 'does my stay at hotel xcaret mexico, hotel xcaret arte or la casa de la playa include access to the parks from grupo xcaret?': 'Yes, our ALL-FUN INCLUSIVE concept includes unlimited access to Xcaret, Xel-Ha, Xplor, Xplor Fuego, Xenses, Xavage, Xoximilco, Xenotes, Transportation is also included.', 'does my stay at hotel xcaret mexico, hotel xcaret arte, or la casa de la playa include the ferry to isla mujeres by xcaret xailing?': 'Yes, the ALL-FUN INCLUSIVE concept contemplates the round-trip ferry trip from Cancun to Isla Mujeres, Transportation service to the Embarcadero Isla Mujeres por Xcaret in the Cancun Hotel Zone is also included.', 'do i need to book a minimum number of nights during my stay at hotel xcaret mexico, hotel xcaret arte or la casa de la playa, in order to enjoy the parks of grupo xcaret?': \"No, you don't, It's not necessary to book a minimum number of nights, You will be able to enjoy our parks even with 1 night's stay, If you need more information or assistance, please check with your Guest Servide Manager.\", 'are my meals and beverages included during my stay at hotel xcaret mexico, hotel xcaret arte or la casa de la playa?': \"Yes, except for the following:Ha' restaurant at Hotel Xcaret MexicoXaak restaurant at Hotel Xcaret ArteSome restaurants are exclusive to certain Casas:Fuego at Casa Fuego at Hotel Xcaret MexicoKibi-Kibi at Casa de los Artistas at Hotel Xcaret Arte.\", 'are food and beverages at the park included in the parks?': 'Some parks have meals and beverages included.', 'how can i get to the parks of grupo xcaret during my stay at hotel xcaret mexico, hotel xcaret arte or la casa de la playa?': 'To enjoy the Xcaret, Xplor, Xplor Fuego and Xenses, just board the shuttle that leaves every 20-30 minutes from the motor lobby, For other parks, please verify the service schedules and reservations with your Guest Service Manager.', 'are the artistic workshops only included for hotel xcaret arte guests?': 'Yes, The artistic workshops are exclusive to Hotel Xcaret Arte guests, Verify restrictions and schedules with your Guest Service Manager.', 'are the muluk spa treatments included in my stay?': 'No, The spa treatments are not included in the ALL-FUN INCLUSIVE.', 'are the optional activities in the parks and tours included in my stay?': 'No, The optional activities are not included and must be paid for at the time of booking an activity.', 'are photos taken at the parks that i will visit, included in my stay?': 'No, Photos are not included.', 'are photos in hotel xcaret mexico, hotel xcaret arte or la casa de la playa included?': 'No, Photos of your visit to the parks are not included, however you will get a special discount for Hotel Xcaret Arte guests, Verify the price with your Guest Service Manager.'}\n"
     ]
    }
   ],
   "source": [
    "res = {sent_tokens[i]: sent_tokens_ans[i] for i in range(len(sent_tokens))} \n",
    "print(res)"
   ]
  },
  {
   "cell_type": "code",
   "execution_count": 31,
   "metadata": {
    "colab": {
     "base_uri": "https://localhost:8080/"
    },
    "executionInfo": {
     "elapsed": 472,
     "status": "ok",
     "timestamp": 1625201875128,
     "user": {
      "displayName": "Albert Anthony",
      "photoUrl": "",
      "userId": "06779463251817115427"
     },
     "user_tz": -420
    },
    "id": "LYI2uuyTaTGq",
    "outputId": "a5594e85-0654-47e9-df50-b5f167eac199"
   },
   "outputs": [
    {
     "name": "stdout",
     "output_type": "stream",
     "text": [
      "['which', 'payment', 'methods', 'are', 'accepted', 'at', 'hotel', 'xcaret', 'mexico', ',', 'hotel', 'xcaret', 'arte', 'and', 'la', 'casa', 'de', 'la', 'playa', '?', 'is', 'my', 'credit', 'card', 'data', 'safe', 'at', 'the', 'time', 'of', 'booking', 'my', 'reservation', '?', 'could', 'i', 'pay', 'for', 'my', 'reservation', 'at', 'the', 'time', 'of', 'check-in', 'at', 'the', 'hotel', '?', 'will', 'my', 'credit', 'card', 'be', 'charged', 'at', 'the', 'time', 'of', 'booking', 'my', 'reservation', 'on', 'the', 'website', 'or', 'on', 'the', 'phone', '?', 'where', 'is', 'hotel', 'xcaret', 'mexico', ',', 'hotel', 'xcaret', 'arte', 'and', 'la', 'casa', 'de', 'la', 'playa', 'located', '?', 'are', 'hotel', 'xcaret', 'mexico', ',', 'hotel', 'xcaret', 'arte', 'and', 'la', 'casa', 'de', 'la', 'playa', 'beach', 'front', '?', 'how', 'many', 'suites', 'are', 'there', 'in', 'hotel', 'xcaret', 'mexico', ',', 'hotel', 'xcaret', 'arte', 'and', 'la', 'casa', 'de', 'la', 'playa', '?', 'are', 'hotel', 'xcaret', 'mexico', ',', 'hotel', 'xcaret', 'arte', 'and', 'la', 'casa', 'de', 'la', 'playa', 'disabled', 'friendly', '?', 'do', 'hotel', 'xcaret', 'mexico', ',', 'hotel', 'xcaret', 'arte', 'and', 'la', 'casa', 'de', 'la', 'playa', 'have', 'an', 'adults', 'only', 'section', '?', 'what', 'time', 'is', 'the', 'check-in', 'and', 'check-out', 'at', 'hotel', 'xcaret', 'mexico', ',', 'hotel', 'xcaret', 'arte', 'and', 'la', 'casa', 'de', 'la', 'playa', '?', 'what', 'time', 'can', 'i', 'access', 'the', 'parks', 'on', 'the', 'check-in', 'and', 'check', 'out', 'dates', '?', 'is', 'it', 'possible', 'to', 'have', 'an', 'early', 'check-in', 'and/or', 'late', 'check-out', '?', 'what', 'is', 'the', 'maximum', 'capacity', 'of', 'each', 'suite', '?', 'what', 'should', 'i', 'do', 'if', 'i', 'have', 'a', 'special', 'request', '?', 'can', 'i', 'invite', 'people', 'who', 'are', 'not', 'saying', 'at', 'hotel', 'xcaret', 'mexico', ',', 'hotel', 'xcaret', 'arte', 'or', 'la', 'casa', 'de', 'la', 'playa', 'in', 'my', 'suite', '?', 'can', 'i', 'smoke', 'in', 'my', 'suite', '?', 'do', 'hotel', 'xcaret', 'mexico', ',', 'hotel', 'xcaret', 'arte', 'and', 'la', 'casa', 'de', 'la', 'playa', 'offer', 'extra', 'beds', '?', 'are', 'there', 'any', 'vegetarian', 'or', 'vegan', 'options', 'in', 'the', 'restaurants', 'of', 'hotel', 'xcaret', 'mexico', ',', 'hotel', 'xcaret', 'arte', 'and', 'la', 'casa', 'de', 'la', 'playa', '?', 'are', 'restaurants', 'and', 'bars', 'open', 'in', 'all', 'seasons', '?', 'do', 'i', 'need', 'to', 'book', 'my', 'airport-hotel', 'shuttle', '?', 'do', 'hotel', 'xcaret', 'mexico', ',', 'hotel', 'xcaret', 'arte', 'and', 'la', 'casa', 'de', 'la', 'playa', 'have', 'any', 'sport', 'facilities', '?', 'is', 'wifi', 'included', 'at', 'hotel', 'xcaret', 'mexico', ',', 'hotel', 'xcaret', 'arte', 'and', 'la', 'casa', 'de', 'la', 'playa', '?', 'do', 'visits', 'to', 'parks', 'of', 'grupo', 'xcaret', 'require', 'booking', '?', 'are', 'hotel', 'xcaret', 'mexico', ',', 'hotel', 'xcaret', 'arte', 'and', 'la', 'casa', 'de', 'la', 'playa', 'pet-friendly', '?', 'do', 'hotel', 'xcaret', 'mexico', ',', 'hotel', 'xcaret', 'arte', 'and', 'la', 'casa', 'de', 'la', 'playa', 'offer', 'special', 'packages', 'for', 'weddings', 'or', 'honeymoon', '?', 'how', 'can', 'i', 'get', 'an', 'estimate', 'for', 'a', 'wedding', '?', 'how', 'can', 'i', 'get', 'an', 'estimate', 'for', 'a', 'group', 'stay', '?', 'does', 'my', 'stay', 'at', 'hotel', 'xcaret', 'mexico', ',', 'hotel', 'xcaret', 'arte', 'or', 'la', 'casa', 'de', 'la', 'playa', 'include', 'access', 'to', 'the', 'parks', 'from', 'grupo', 'xcaret', '?', 'does', 'my', 'stay', 'at', 'hotel', 'xcaret', 'mexico', ',', 'hotel', 'xcaret', 'arte', ',', 'or', 'la', 'casa', 'de', 'la', 'playa', 'include', 'the', 'ferry', 'to', 'isla', 'mujeres', 'by', 'xcaret', 'xailing', '?', 'do', 'i', 'need', 'to', 'book', 'a', 'minimum', 'number', 'of', 'nights', 'during', 'my', 'stay', 'at', 'hotel', 'xcaret', 'mexico', ',', 'hotel', 'xcaret', 'arte', 'or', 'la', 'casa', 'de', 'la', 'playa', ',', 'in', 'order', 'to', 'enjoy', 'the', 'parks', 'of', 'grupo', 'xcaret', '?', 'are', 'my', 'meals', 'and', 'beverages', 'included', 'during', 'my', 'stay', 'at', 'hotel', 'xcaret', 'mexico', ',', 'hotel', 'xcaret', 'arte', 'or', 'la', 'casa', 'de', 'la', 'playa', '?', 'are', 'food', 'and', 'beverages', 'at', 'the', 'park', 'included', 'in', 'the', 'parks', '?', 'how', 'can', 'i', 'get', 'to', 'the', 'parks', 'of', 'grupo', 'xcaret', 'during', 'my', 'stay', 'at', 'hotel', 'xcaret', 'mexico', ',', 'hotel', 'xcaret', 'arte', 'or', 'la', 'casa', 'de', 'la', 'playa', '?', 'are', 'the', 'artistic', 'workshops', 'only', 'included', 'for', 'hotel', 'xcaret', 'arte', 'guests', '?', 'are', 'the', 'muluk', 'spa', 'treatments', 'included', 'in', 'my', 'stay', '?', 'are', 'the', 'optional', 'activities', 'in', 'the', 'parks', 'and', 'tours', 'included', 'in', 'my', 'stay', '?', 'are', 'photos', 'taken', 'at', 'the', 'parks', 'that', 'i', 'will', 'visit', ',', 'included', 'in', 'my', 'stay', '?', 'are', 'photos', 'in', 'hotel', 'xcaret', 'mexico', ',', 'hotel', 'xcaret', 'arte', 'or', 'la', 'casa', 'de', 'la', 'playa', 'included', '?']\n"
     ]
    }
   ],
   "source": [
    "word_tokens = nltk.word_tokenize(raw_data)# converts documents to list of words\n",
    "print (word_tokens)"
   ]
  },
  {
   "cell_type": "code",
   "execution_count": 32,
   "metadata": {
    "executionInfo": {
     "elapsed": 472,
     "status": "ok",
     "timestamp": 1625201875130,
     "user": {
      "displayName": "Albert Anthony",
      "photoUrl": "",
      "userId": "06779463251817115427"
     },
     "user_tz": -420
    },
    "id": "-7sg_IsiaTGq"
   },
   "outputs": [],
   "source": [
    "lemmer = nltk.stem.WordNetLemmatizer() #Initiate lemmer class. WordNet is a semantically-oriented dictionary of English included in NLTK.\n",
    "def LemTokens(tokens):\n",
    "    return [lemmer.lemmatize(token) for token in tokens]"
   ]
  },
  {
   "cell_type": "code",
   "execution_count": 33,
   "metadata": {
    "executionInfo": {
     "elapsed": 2,
     "status": "ok",
     "timestamp": 1625201875457,
     "user": {
      "displayName": "Albert Anthony",
      "photoUrl": "",
      "userId": "06779463251817115427"
     },
     "user_tz": -420
    },
    "id": "tNpTcnZQaTGq"
   },
   "outputs": [],
   "source": [
    "remove_punct_dict = dict((ord(punct), None) for punct in string.punctuation)\n",
    "def LemNormalize(text):\n",
    "    return LemTokens(nltk.word_tokenize(text.lower().translate(remove_punct_dict))) "
   ]
  },
  {
   "cell_type": "markdown",
   "metadata": {
    "id": "8yBNkjCkaTGq"
   },
   "source": [
    "## 2. Adding Chatbot functionality - Cosine similarity"
   ]
  },
  {
   "cell_type": "code",
   "execution_count": 34,
   "metadata": {
    "executionInfo": {
     "elapsed": 2,
     "status": "ok",
     "timestamp": 1625201875457,
     "user": {
      "displayName": "Albert Anthony",
      "photoUrl": "",
      "userId": "06779463251817115427"
     },
     "user_tz": -420
    },
    "id": "YKToF6tBaTGq"
   },
   "outputs": [],
   "source": [
    "GREETING_INPUTS = [\"hello\", \"hi\", \"greetings\", \"sup\", \"what's up\",\"hey\", \"hey there\"]\n",
    "GREETING_RESPONSES = [\"hi\", \"hey\", \"*nods*\", \"hi there\", \"hello\", \"I am glad! You are talking to me\"]\n",
    "\n",
    "def greeting(sentence):\n",
    "    for word in sentence.split(): # Looks at each word in your sentence\n",
    "        if word.lower() in GREETING_INPUTS: # checks if the word matches a GREETING_INPUT\n",
    "            return random.choice(GREETING_RESPONSES) # replies with a GREETING_RESPONSE"
   ]
  },
  {
   "cell_type": "markdown",
   "metadata": {
    "id": "OG8J9Y4haTGq"
   },
   "source": [
    "The functionality of the chatbot is done by creating a loop for running the chatbot. Take a loof at the function below. Each line in the function is important as it calls another function to perform an important step. The function 'response' is responsible for how the chatbot behaves. Having a master function for each functionality is recommended as good programming practise. \n"
   ]
  },
  {
   "cell_type": "code",
   "execution_count": 35,
   "metadata": {
    "executionInfo": {
     "elapsed": 1,
     "status": "ok",
     "timestamp": 1625201875761,
     "user": {
      "displayName": "Albert Anthony",
      "photoUrl": "",
      "userId": "06779463251817115427"
     },
     "user_tz": -420
    },
    "id": "ljpdA9lXaTGq"
   },
   "outputs": [],
   "source": [
    "def response(user_response):\n",
    "    \n",
    "    robo_response='' # initialize a variable to contain string\n",
    "    sent_tokens.append(user_response) #add user response to sent_tokens\n",
    "    TfidfVec = TfidfVectorizer(tokenizer=LemNormalize, stop_words='english') \n",
    "    tfidf = TfidfVec.fit_transform(sent_tokens) #get tfidf value\n",
    "    vals = cosine_similarity(tfidf[-1], tfidf) #get cosine similarity value\n",
    "    idx=vals.argsort()[0][-2] \n",
    "    flat = vals.flatten() \n",
    "    flat.sort() #sort in ascending order\n",
    "    req_tfidf = flat[-2] \n",
    "    \n",
    "    if(req_tfidf==0):\n",
    "        robo_response=robo_response+\"I am sorry! I don't understand you\"\n",
    "        return robo_response, vals\n",
    "    else:\n",
    "        robo_response = robo_response+res[sent_tokens[idx]]\n",
    "        return robo_response, vals"
   ]
  },
  {
   "cell_type": "markdown",
   "metadata": {
    "id": "MObdf0DbaTGq"
   },
   "source": [
    "Finally, let us create the chatbot interface and create a persona around it. Let us call it 'Jane' and use cosine similarity to find FAQs similar to the question asked and answer them. "
   ]
  },
  {
   "cell_type": "code",
   "execution_count": 36,
   "metadata": {
    "colab": {
     "base_uri": "https://localhost:8080/"
    },
    "executionInfo": {
     "elapsed": 10210,
     "status": "ok",
     "timestamp": 1625201887211,
     "user": {
      "displayName": "Albert Anthony",
      "photoUrl": "",
      "userId": "06779463251817115427"
     },
     "user_tz": -420
    },
    "id": "kAhwDtRAaTGr",
    "outputId": "a189d9b9-b5a9-472a-bcd2-0d1c3ec54cf0"
   },
   "outputs": [
    {
     "name": "stdout",
     "output_type": "stream",
     "text": [
      "Jane: My name is Jane. I will answer your queries about this hotel. If you want to exit, type Bye!\n",
      "Can I smoke?\n",
      "Jane: "
     ]
    },
    {
     "name": "stderr",
     "output_type": "stream",
     "text": [
      "C:\\ProgramData\\Anaconda3\\lib\\site-packages\\sklearn\\feature_extraction\\text.py:388: UserWarning: Your stop_words may be inconsistent with your preprocessing. Tokenizing the stop words generated tokens ['ha', 'le', 'u', 'wa'] not in stop_words.\n",
      "  warnings.warn('Your stop_words may be inconsistent with '\n"
     ]
    },
    {
     "name": "stdout",
     "output_type": "stream",
     "text": [
      "No, you can't, The suites are non-smoking.\n",
      " (With similarity of  0.7590403519285281 )\n",
      "is there a shuttle?\n",
      "Jane: The shuttle service (shared) does not require any booking, However, if the suite that you booked offers private service, your confirmation to your Guest Service Manager is necessary within at least 24 hours in advance.\n",
      " (With similarity of  0.48572179569147267 )\n",
      "do you host weddings?\n",
      "Jane: Allow our flawless service and specialized personnel to contribute in making your dream come true, Please write toÂ customerservice@hotelxcaret.comÂ to start the preparation of the best day of your life.\n",
      " (With similarity of  0.4313089872349581 )\n",
      "are you pet friendly?\n",
      "Jane: Yes, the hotels have ramps and wheelchair access at your disposal, as well as, some suites are setup for them.\n",
      " (With similarity of  0.28754489017777174 )\n",
      "are you pet-friendly?\n",
      "Jane: Yes, Hotel Xcaret Mexico, Hotel Xcaret Arte and La Casa de la Playa are pet-friendly, so that you can stay with your pet.\n",
      " (With similarity of  0.49005259682354146 )\n",
      "beverages are included?\n",
      "Jane: Some parks have meals and beverages included.\n",
      " (With similarity of  0.5377923057337557 )\n",
      "can I use the spa?\n",
      "Jane: No, The spa treatments are not included in the ALL-FUN INCLUSIVE.\n",
      " (With similarity of  0.31860373516204343 )\n",
      "do you have vegan options?\n",
      "Jane: Yes, We offer a vegetarian menu or vegan options in every restaurant, Please inform your Guest Service Manager about your food preferences.\n",
      " (With similarity of  0.5197818139993966 )\n",
      "do you have extra beds?\n",
      "Jane: The hotels do no offer the extra beds service, however, each suite has a double sofa-bed.\n",
      " (With similarity of  0.5696162483651199 )\n",
      "adios\n",
      "Jane: I am sorry! I don't understand you\n",
      " (With similarity of  0.0 )\n",
      "bye\n",
      "Jane: Bye! take care..\n"
     ]
    }
   ],
   "source": [
    "\n",
    "flag=True\n",
    "print(\"Jane: My name is Jane. I will answer your queries about this hotel. If you want to exit, type Bye!\")\n",
    "while(flag==True):\n",
    "    user_response = input()\n",
    "    user_response=user_response.lower()\n",
    "    if(user_response!='bye'):\n",
    "        if(user_response=='thanks' or user_response=='thank you' ):\n",
    "            flag=False\n",
    "            print(\"Jane: You are welcome..\")\n",
    "        else:\n",
    "            if(greeting(user_response)!=None):\n",
    "                print(\"Jane: \"+greeting(user_response))\n",
    "\n",
    "            else:\n",
    "                print(\"Jane: \",end=\"\")\n",
    "                resp= response(user_response)\n",
    "                print(resp[0], )\n",
    "                sent_tokens.remove(user_response)\n",
    "                resp_l = resp[1].tolist()\n",
    "                resp_l[0].pop()\n",
    "                print(' (With similarity of ',max(resp_l[0]),')')\n",
    "\n",
    "    else:\n",
    "        flag=False\n",
    "        print(\"Jane: Bye! take care..\")\n",
    "       "
   ]
  },
  {
   "cell_type": "markdown",
   "metadata": {
    "id": "ti57IhXEaTGr"
   },
   "source": [
    "## 3. Chatbot functionality using Doc2vec\n",
    "\n",
    "We will be covering one more type of model for creating chatbots. As we saw the cosine similarity model works on using that algorithm to find similarities between 2 sentences. But can we now use a neural network to solve this problem? Lets take a look.\n",
    "\n",
    "Doc2Vec is a neural network based model that essentially creates vectors out of documents. In order to understand Doc2vec you also need to understand word2vec. \n",
    "\n",
    "\n",
    "#### What is word2vec?\n",
    "It’s a Model to create the word embeddings, where it takes input as a large corpus of text and produces a vector space typically of several hundred dimesions. it was introduced in two papers between September and October 2013, by a team of researchers at Google. The underlying assumption of Word2Vec is that two words sharing similar contexts also share a similar meaning and consequently a similar vector representation from the model.\n",
    "\n",
    "For instance: “Bank”, “money” and “accounts” are often used in similar situations, with similar surrounding words like “dollar”, “loan” or “credit”, and according to Word2Vec they will therefore share a similar vector representation. \n",
    "\n",
    "![Image](img1.png)"
   ]
  },
  {
   "cell_type": "markdown",
   "metadata": {
    "id": "ajt10YajaTGr"
   },
   "source": [
    "#### What is Doc2vec?\n",
    "\n",
    "So the objective of Doc2vec is to create the numerical representation of sentence/paragraphs/documents unlike word2vec that computes a feature vector for every word in the corpus, Doc2Vec computes a feature vector for every document in the corpus. The vectors generated by Doc2vec can be used for tasks like finding similarity between sentences/paragraphs/documents\n",
    "\n",
    "<strong> We will be using this property of doc2vec to create our own similarity model.</strong>\n"
   ]
  },
  {
   "cell_type": "markdown",
   "metadata": {
    "id": "4rz_EMVtaTGr"
   },
   "source": [
    "Let us begin by importing the relevant libraries."
   ]
  },
  {
   "cell_type": "code",
   "execution_count": 37,
   "metadata": {
    "colab": {
     "base_uri": "https://localhost:8080/"
    },
    "executionInfo": {
     "elapsed": 10602,
     "status": "ok",
     "timestamp": 1625199335390,
     "user": {
      "displayName": "Albert Anthony",
      "photoUrl": "",
      "userId": "06779463251817115427"
     },
     "user_tz": -420
    },
    "id": "ItqcrhJpa8nd",
    "outputId": "2348a912-2fd5-4eda-fbf7-02dd45e96220"
   },
   "outputs": [
    {
     "data": {
      "text/plain": [
       "0"
      ]
     },
     "execution_count": 37,
     "metadata": {},
     "output_type": "execute_result"
    }
   ],
   "source": [
    "import subprocess\n",
    "import sys\n",
    "subprocess.check_call([sys.executable, \"-m\", \"pip\", \"install\", \"gensim == 3.8.1\"])"
   ]
  },
  {
   "cell_type": "code",
   "execution_count": 38,
   "metadata": {
    "executionInfo": {
     "elapsed": 387,
     "status": "ok",
     "timestamp": 1625201893472,
     "user": {
      "displayName": "Albert Anthony",
      "photoUrl": "",
      "userId": "06779463251817115427"
     },
     "user_tz": -420
    },
    "id": "u0uEPI3haTGs"
   },
   "outputs": [],
   "source": [
    "from gensim.models.doc2vec import Doc2Vec, TaggedDocument\n",
    "from nltk.tokenize import word_tokenize"
   ]
  },
  {
   "cell_type": "markdown",
   "metadata": {
    "id": "jCN-DoefaTGs"
   },
   "source": [
    "The first main aim is to tag our data. The doc2vec model requires us to tag our data to use it effectively. Here is a good learning link for a [starter code](https://www.kaggle.com/fmitchell259/creating-a-doc2vec-model) for doc2vec. The following [link](https://medium.com/wisio/a-gentle-introduction-to-doc2vec-db3e8c0cce5e) can also be usedful and it recommended to read them. "
   ]
  },
  {
   "cell_type": "code",
   "execution_count": 39,
   "metadata": {
    "executionInfo": {
     "elapsed": 1,
     "status": "ok",
     "timestamp": 1625201893805,
     "user": {
      "displayName": "Albert Anthony",
      "photoUrl": "",
      "userId": "06779463251817115427"
     },
     "user_tz": -420
    },
    "id": "kXe558qcaTGs"
   },
   "outputs": [],
   "source": [
    "tagged_data = [TaggedDocument(words=word_tokenize(_d.lower()), tags=[str(i)]) for i, _d in enumerate(sent_tokens)]"
   ]
  },
  {
   "cell_type": "code",
   "execution_count": 40,
   "metadata": {
    "executionInfo": {
     "elapsed": 301,
     "status": "ok",
     "timestamp": 1625201895886,
     "user": {
      "displayName": "Albert Anthony",
      "photoUrl": "",
      "userId": "06779463251817115427"
     },
     "user_tz": -420
    },
    "id": "dfTTPFpQaTGs"
   },
   "outputs": [],
   "source": [
    "max_epochs = 100\n",
    "vec_size = 20 # Increase this to have a larger vector. This will mean more differentiation. \n",
    "alpha = 0.025\n"
   ]
  },
  {
   "cell_type": "markdown",
   "metadata": {
    "id": "dfhX6BQeaTGs"
   },
   "source": [
    "The next step is to train the model. As before we will be using a `model.train` function to run the training process. Take a look at the [documentation](https://radimrehurek.com/gensim/models/doc2vec.html) for more information about how to train the Doc2vec model. "
   ]
  },
  {
   "cell_type": "code",
   "execution_count": 41,
   "metadata": {
    "colab": {
     "base_uri": "https://localhost:8080/"
    },
    "executionInfo": {
     "elapsed": 45968,
     "status": "ok",
     "timestamp": 1625201943421,
     "user": {
      "displayName": "Albert Anthony",
      "photoUrl": "",
      "userId": "06779463251817115427"
     },
     "user_tz": -420
    },
    "id": "h7ScV7f0aTGs",
    "outputId": "e226e5a2-e46b-4908-85e3-98defa6964a2"
   },
   "outputs": [
    {
     "name": "stderr",
     "output_type": "stream",
     "text": [
      "C:\\ProgramData\\Anaconda3\\lib\\site-packages\\gensim\\models\\base_any2vec.py:742: UserWarning: C extension not loaded, training will be slow. Install a C compiler and reinstall gensim for fast training.\n",
      "  warnings.warn(\n"
     ]
    },
    {
     "name": "stdout",
     "output_type": "stream",
     "text": [
      "iteration 0\n",
      "iteration 1\n",
      "iteration 2\n",
      "iteration 3\n",
      "iteration 4\n",
      "iteration 5\n",
      "iteration 6\n",
      "iteration 7\n",
      "iteration 8\n",
      "iteration 9\n",
      "iteration 10\n",
      "iteration 11\n",
      "iteration 12\n",
      "iteration 13\n",
      "iteration 14\n",
      "iteration 15\n",
      "iteration 16\n",
      "iteration 17\n",
      "iteration 18\n",
      "iteration 19\n",
      "iteration 20\n",
      "iteration 21\n",
      "iteration 22\n",
      "iteration 23\n",
      "iteration 24\n",
      "iteration 25\n",
      "iteration 26\n",
      "iteration 27\n",
      "iteration 28\n",
      "iteration 29\n",
      "iteration 30\n",
      "iteration 31\n",
      "iteration 32\n",
      "iteration 33\n",
      "iteration 34\n",
      "iteration 35\n",
      "iteration 36\n",
      "iteration 37\n",
      "iteration 38\n",
      "iteration 39\n",
      "iteration 40\n",
      "iteration 41\n",
      "iteration 42\n",
      "iteration 43\n",
      "iteration 44\n",
      "iteration 45\n",
      "iteration 46\n",
      "iteration 47\n",
      "iteration 48\n",
      "iteration 49\n",
      "iteration 50\n",
      "iteration 51\n",
      "iteration 52\n",
      "iteration 53\n",
      "iteration 54\n",
      "iteration 55\n",
      "iteration 56\n",
      "iteration 57\n",
      "iteration 58\n",
      "iteration 59\n",
      "iteration 60\n",
      "iteration 61\n",
      "iteration 62\n",
      "iteration 63\n",
      "iteration 64\n",
      "iteration 65\n",
      "iteration 66\n",
      "iteration 67\n",
      "iteration 68\n",
      "iteration 69\n",
      "iteration 70\n",
      "iteration 71\n",
      "iteration 72\n",
      "iteration 73\n",
      "iteration 74\n",
      "iteration 75\n",
      "iteration 76\n",
      "iteration 77\n",
      "iteration 78\n",
      "iteration 79\n",
      "iteration 80\n",
      "iteration 81\n",
      "iteration 82\n",
      "iteration 83\n",
      "iteration 84\n",
      "iteration 85\n",
      "iteration 86\n",
      "iteration 87\n",
      "iteration 88\n",
      "iteration 89\n",
      "iteration 90\n",
      "iteration 91\n",
      "iteration 92\n",
      "iteration 93\n",
      "iteration 94\n",
      "iteration 95\n",
      "iteration 96\n",
      "iteration 97\n",
      "iteration 98\n",
      "iteration 99\n",
      "Model Saved\n"
     ]
    }
   ],
   "source": [
    "\n",
    "model = Doc2Vec(vector_size =vec_size,\n",
    "                alpha=alpha, \n",
    "                min_alpha=0.00025,\n",
    "                min_count=1,\n",
    "                dm =1)\n",
    "  \n",
    "model.build_vocab(tagged_data)\n",
    "\n",
    "for epoch in range(max_epochs):\n",
    "    print('iteration {0}'.format(epoch))\n",
    "    model.train(tagged_data, # tagged data to be used here\n",
    "                total_examples=model.corpus_count,\n",
    "                epochs=100)\n",
    "    # decrease the learning rate\n",
    "    model.alpha -= 0.0002\n",
    "    # fix the learning rate, no decay\n",
    "    model.min_alpha = model.alpha\n",
    "\n",
    "model.save(\"d2v.model\")\n",
    "print(\"Model Saved\")\n"
   ]
  },
  {
   "cell_type": "markdown",
   "metadata": {
    "id": "8THTIyMhaTGs"
   },
   "source": [
    "### Evaluating doc2vec model"
   ]
  },
  {
   "cell_type": "code",
   "execution_count": 42,
   "metadata": {
    "executionInfo": {
     "elapsed": 15,
     "status": "ok",
     "timestamp": 1625201943421,
     "user": {
      "displayName": "Albert Anthony",
      "photoUrl": "",
      "userId": "06779463251817115427"
     },
     "user_tz": -420
    },
    "id": "rc2d1J9-aTGs"
   },
   "outputs": [],
   "source": [
    "from gensim.models.doc2vec import Doc2Vec\n",
    "model= Doc2Vec.load(\"d2v.model\")"
   ]
  },
  {
   "cell_type": "code",
   "execution_count": 43,
   "metadata": {
    "executionInfo": {
     "elapsed": 15,
     "status": "ok",
     "timestamp": 1625201943422,
     "user": {
      "displayName": "Albert Anthony",
      "photoUrl": "",
      "userId": "06779463251817115427"
     },
     "user_tz": -420
    },
    "id": "iH3JR16OaTGs"
   },
   "outputs": [],
   "source": [
    "test_data = word_tokenize(\"How much is the price?\".lower())"
   ]
  },
  {
   "cell_type": "markdown",
   "metadata": {
    "id": "ImHFLBeFaTGs"
   },
   "source": [
    "We can use the `model.infer_vector` function to infer the vector associated with a document. We can then use a function called `most_similar` to find the most similar vectors to the one we have created. What are the results? "
   ]
  },
  {
   "cell_type": "code",
   "execution_count": 44,
   "metadata": {
    "colab": {
     "base_uri": "https://localhost:8080/"
    },
    "executionInfo": {
     "elapsed": 15,
     "status": "ok",
     "timestamp": 1625201943422,
     "user": {
      "displayName": "Albert Anthony",
      "photoUrl": "",
      "userId": "06779463251817115427"
     },
     "user_tz": -420
    },
    "id": "tHtGjgCtaTGt",
    "outputId": "c21a88e8-fdab-4470-dd7a-8ffc7ec69d04"
   },
   "outputs": [
    {
     "name": "stdout",
     "output_type": "stream",
     "text": [
      "V1_infer [ 0.2015224  -0.23150712 -0.3772632   0.9731093   0.02674857  0.30640373\n",
      "  0.35290086 -0.17238572 -0.47018495  0.08898254 -0.3221872  -0.11376996\n",
      "  0.13277172 -0.34268722 -0.38118112  0.45459187 -1.005438    0.04126304\n",
      "  0.54858303 -0.6681078 ]\n"
     ]
    }
   ],
   "source": [
    "v1 = model.infer_vector(test_data)\n",
    "print(\"V1_infer\", v1)"
   ]
  },
  {
   "cell_type": "code",
   "execution_count": 45,
   "metadata": {
    "colab": {
     "base_uri": "https://localhost:8080/"
    },
    "executionInfo": {
     "elapsed": 14,
     "status": "ok",
     "timestamp": 1625201943423,
     "user": {
      "displayName": "Albert Anthony",
      "photoUrl": "",
      "userId": "06779463251817115427"
     },
     "user_tz": -420
    },
    "id": "6jcvVT6maTGt",
    "outputId": "8497571d-346f-42ae-f2d8-05c4f8b21cf7"
   },
   "outputs": [
    {
     "name": "stdout",
     "output_type": "stream",
     "text": [
      "[('6', 0.6243981122970581), ('8', 0.5830704569816589), ('22', 0.5722140073776245), ('24', 0.5691563487052917)]\n"
     ]
    }
   ],
   "source": [
    "similar_doc = model.docvecs.most_similar(positive = [v1], topn = 4) #positive is an attribute that shows positive correlation first followed by the correlation value\n",
    "print(similar_doc)"
   ]
  },
  {
   "cell_type": "code",
   "execution_count": 46,
   "metadata": {
    "colab": {
     "base_uri": "https://localhost:8080/"
    },
    "executionInfo": {
     "elapsed": 12,
     "status": "ok",
     "timestamp": 1625201943423,
     "user": {
      "displayName": "Albert Anthony",
      "photoUrl": "",
      "userId": "06779463251817115427"
     },
     "user_tz": -420
    },
    "id": "K5RVlbzkaTGt",
    "outputId": "3003c008-66f6-46d5-e1e8-3d1f1d283c92"
   },
   "outputs": [
    {
     "data": {
      "text/plain": [
       "TaggedDocument(words=['how', 'many', 'suites', 'are', 'there', 'in', 'hotel', 'xcaret', 'mexico', ',', 'hotel', 'xcaret', 'arte', 'and', 'la', 'casa', 'de', 'la', 'playa', '?'], tags=['6'])"
      ]
     },
     "execution_count": 46,
     "metadata": {},
     "output_type": "execute_result"
    }
   ],
   "source": [
    "num,_ = similar_doc[0]\n",
    "num = int(num)\n",
    "tagged_data[num]\n"
   ]
  },
  {
   "cell_type": "markdown",
   "metadata": {
    "id": "6nyV8stPaTGu"
   },
   "source": [
    "Here it is very clear from the output of the previous code block that this model is not as effective as one might have thought. Are there any guesses why this model failed where we expected it to succeed?"
   ]
  },
  {
   "cell_type": "markdown",
   "metadata": {
    "id": "IF3_3KTWaTGu"
   },
   "source": [
    "Click on this [link](https://stackoverflow.com/questions/58206571/doc2vec-find-the-similar-sentence) to learn more about this. The gist of the issue is this\n",
    "\n",
    "> Doc2Vec isn't going to give good results on toy-sized datasets, so you shouldn't expect anything meaningful until using much more data."
   ]
  },
  {
   "cell_type": "markdown",
   "metadata": {
    "id": "JkxnczmCaTGu"
   },
   "source": [
    "### Using pretrained doc2vec\n",
    "\n",
    "And so let us use a pretrained model downloaded from the internet to optimize our use case. The model we have acquired is trained on the associated press news and can be downloaded [here](https://github.com/jhlau/doc2vec).\n",
    "\n",
    "Let us load the model and evaluate it again."
   ]
  },
  {
   "cell_type": "code",
   "execution_count": 47,
   "metadata": {
    "executionInfo": {
     "elapsed": 15060,
     "status": "ok",
     "timestamp": 1625202451516,
     "user": {
      "displayName": "Albert Anthony",
      "photoUrl": "",
      "userId": "06779463251817115427"
     },
     "user_tz": -420
    },
    "id": "OwYkOiukaTGu"
   },
   "outputs": [
    {
     "name": "stderr",
     "output_type": "stream",
     "text": [
      "C:\\ProgramData\\Anaconda3\\lib\\site-packages\\gensim\\models\\base_any2vec.py:742: UserWarning: C extension not loaded, training will be slow. Install a C compiler and reinstall gensim for fast training.\n",
      "  warnings.warn(\n"
     ]
    }
   ],
   "source": [
    "model= Doc2Vec.load(os.getcwd()+r\"\\\\doc2vec.bin\")"
   ]
  },
  {
   "cell_type": "code",
   "execution_count": 48,
   "metadata": {
    "executionInfo": {
     "elapsed": 18,
     "status": "ok",
     "timestamp": 1625202451519,
     "user": {
      "displayName": "Albert Anthony",
      "photoUrl": "",
      "userId": "06779463251817115427"
     },
     "user_tz": -420
    },
    "id": "x3oHXA5zaTGu"
   },
   "outputs": [],
   "source": [
    "test_data = word_tokenize(\"How much is the price?\".lower())"
   ]
  },
  {
   "cell_type": "code",
   "execution_count": 49,
   "metadata": {
    "colab": {
     "base_uri": "https://localhost:8080/"
    },
    "executionInfo": {
     "elapsed": 18,
     "status": "ok",
     "timestamp": 1625202451520,
     "user": {
      "displayName": "Albert Anthony",
      "photoUrl": "",
      "userId": "06779463251817115427"
     },
     "user_tz": -420
    },
    "id": "hkRhAtmEaTGu",
    "outputId": "7b5ccc32-2dab-470d-9ef6-ba2d7cd9820a"
   },
   "outputs": [
    {
     "name": "stdout",
     "output_type": "stream",
     "text": [
      "V1_infer [ 0.04594279 -0.09332872  0.12052081 -0.00430305  0.05193945  0.12344071\n",
      " -0.20036738 -0.16266865  0.10080659  0.06089645  0.17401664  0.09388433\n",
      " -0.1175189  -0.13436416 -0.18134142  0.12421092 -0.19823492  0.08593023\n",
      "  0.0094606  -0.04507516 -0.23374364 -0.04155522  0.06152843  0.05250691\n",
      "  0.08372033 -0.21819888 -0.06024333 -0.15949504 -0.10761306  0.08231125\n",
      " -0.1787988  -0.02322111 -0.01185284  0.04147323  0.08291915  0.05479727\n",
      "  0.00925557 -0.06143322  0.03315309 -0.09962466  0.02639398  0.0274008\n",
      "  0.20581658  0.16853265 -0.14157169 -0.18239558  0.0885706   0.05721233\n",
      " -0.07254339  0.0779999  -0.14986704 -0.01384519  0.02613728  0.01657231\n",
      " -0.06448152 -0.13853844  0.20865412  0.04948533  0.08210691 -0.15983054\n",
      "  0.07421409  0.00421122 -0.12554426  0.1676065   0.19656971  0.0842042\n",
      " -0.15895638 -0.24953152  0.2597829  -0.00240057 -0.120561    0.14736547\n",
      " -0.07604281 -0.11051979 -0.14823443  0.02896312  0.03998013  0.20227018\n",
      " -0.23322019  0.01056932  0.12341718 -0.21633236  0.02500316 -0.15147032\n",
      " -0.06056918  0.06774855  0.05816774 -0.13780536  0.04688384 -0.09288634\n",
      " -0.02747855 -0.13084824 -0.14132778  0.17655088  0.10141373 -0.0601748\n",
      "  0.14524972 -0.04041077 -0.02533982 -0.04145635 -0.11291334  0.03940176\n",
      "  0.08342405 -0.02520657  0.01812737 -0.06559514  0.05859847  0.08230837\n",
      " -0.00682623  0.16265608 -0.06086022 -0.1765423   0.17431124 -0.0697043\n",
      "  0.05663058 -0.01471329 -0.03010235  0.10273668 -0.31941202  0.31900233\n",
      " -0.1441779   0.10702235 -0.0273316  -0.12592974 -0.10733099 -0.03859213\n",
      "  0.01546203  0.02259231 -0.00775749 -0.01206286 -0.04030221 -0.06833154\n",
      "  0.02438546 -0.10858524 -0.15255158  0.06765922 -0.08809287 -0.09371099\n",
      " -0.21490416 -0.04103578  0.02597745  0.01646616  0.01651359 -0.07023931\n",
      "  0.10920702  0.04616463  0.12004135 -0.107195   -0.11502288  0.20393015\n",
      " -0.0793808   0.03654018  0.13448372  0.16552722 -0.10217929 -0.12497226\n",
      " -0.0198054  -0.10503644 -0.04179534 -0.10887296 -0.00807707  0.06699923\n",
      " -0.07157432  0.05034411 -0.09674259 -0.00139454 -0.2904262  -0.02317804\n",
      "  0.03495812  0.04856155 -0.23047177 -0.19173111 -0.02261097 -0.12827274\n",
      "  0.0166289   0.08710258 -0.15699303 -0.01214174 -0.11819045 -0.07132413\n",
      "  0.09159102  0.00974931 -0.0147464   0.047308    0.03873147 -0.10843648\n",
      " -0.00145618 -0.03095239  0.05822355  0.00043859  0.04383749  0.00976863\n",
      "  0.01982247  0.02855785 -0.03639651  0.00268402  0.01640246 -0.24867657\n",
      "  0.06669826 -0.13181405  0.01997307  0.21318522  0.03104882  0.03666721\n",
      "  0.13640867 -0.00503924 -0.14452155  0.10522415  0.03576547 -0.09746271\n",
      " -0.02578341  0.11168513 -0.10698186  0.04423309  0.02843781 -0.08210206\n",
      "  0.12465811 -0.07671284 -0.02540373 -0.08337742  0.08500567 -0.17014587\n",
      " -0.20365438  0.01756968 -0.12258343  0.06650729  0.10022885 -0.12186169\n",
      " -0.00520543  0.00216874  0.0400301   0.06898984  0.05551254  0.03698881\n",
      "  0.1598767   0.02664682 -0.08780887 -0.08129259  0.03417948  0.07840606\n",
      " -0.11628416 -0.01762966  0.03950911  0.09747718  0.08149692 -0.03554497\n",
      "  0.02781916  0.04565709 -0.00209917 -0.12259563  0.06129139 -0.02380044\n",
      "  0.06970059  0.06712636  0.09582859 -0.02870061  0.00080549 -0.05542701\n",
      "  0.17407666 -0.00334596  0.27819985  0.10945437 -0.18163078  0.0459956\n",
      " -0.01273733 -0.06035651 -0.13111636  0.07504882 -0.04689293 -0.02744755\n",
      " -0.06036076  0.03363929  0.1328033   0.06672671  0.01221741 -0.0909133\n",
      "  0.02665452 -0.05374696  0.01432963 -0.10219543 -0.09083796  0.10859989\n",
      "  0.26152647 -0.05896936  0.2514714   0.07278833 -0.05613832  0.00383247\n",
      " -0.01547632 -0.01812066  0.04131748 -0.21711278 -0.02493544  0.07676481\n",
      "  0.0109172  -0.09443578 -0.12689286  0.01476301  0.01468078 -0.10217462]\n"
     ]
    }
   ],
   "source": [
    "v1 = model.infer_vector(test_data)\n",
    "print(\"V1_infer\", v1)"
   ]
  },
  {
   "cell_type": "code",
   "execution_count": 50,
   "metadata": {
    "colab": {
     "base_uri": "https://localhost:8080/"
    },
    "executionInfo": {
     "elapsed": 17,
     "status": "ok",
     "timestamp": 1625202451520,
     "user": {
      "displayName": "Albert Anthony",
      "photoUrl": "",
      "userId": "06779463251817115427"
     },
     "user_tz": -420
    },
    "id": "wen70awiaTGu",
    "outputId": "1c791631-02ea-4f0f-cee0-08f627ab0cb3"
   },
   "outputs": [
    {
     "name": "stdout",
     "output_type": "stream",
     "text": [
      "which payment methods are accepted at hotel xcaret mexico, hotel xcaret arte and la casa de la playa?\n",
      "[[0.43621233]]\n",
      "is my credit card data safe at the time of booking my reservation?\n",
      "[[0.45524934]]\n",
      "could i pay for my reservation at the time of check-in at the hotel?\n",
      "[[0.50117695]]\n",
      "will my credit card be charged at the time of booking my reservation on the website or on the phone?\n",
      "[[0.4393093]]\n",
      "where is hotel xcaret mexico, hotel xcaret arte and la casa de la playa located?\n",
      "[[0.505417]]\n",
      "are hotel xcaret mexico, hotel xcaret arte and la casa de la playa beach front?\n",
      "[[0.4301231]]\n",
      "how many suites are there in hotel xcaret mexico, hotel xcaret arte and la casa de la playa?\n",
      "[[0.52715945]]\n",
      "are hotel xcaret mexico, hotel xcaret arte and la casa de la playa disabled friendly?\n",
      "[[0.37923807]]\n",
      "do hotel xcaret mexico, hotel xcaret arte and la casa de la playa have an adults only section?\n",
      "[[0.42074046]]\n",
      "what time is the check-in and check-out at hotel xcaret mexico, hotel xcaret arte and la casa de la playa?\n",
      "[[0.5525037]]\n",
      "what time can i access the parks on the check-in and check out dates?\n",
      "[[0.469429]]\n",
      "is it possible to have an early check-in and/or late check-out?\n",
      "[[0.50322044]]\n",
      "what is the maximum capacity of each suite?\n",
      "[[0.6744355]]\n",
      "what should i do if i have a special request?\n",
      "[[0.51333344]]\n",
      "can i invite people who are not saying at hotel xcaret mexico, hotel xcaret arte or la casa de la playa in my suite?\n",
      "[[0.36520135]]\n",
      "can i smoke in my suite?\n",
      "[[0.44965142]]\n",
      "do hotel xcaret mexico, hotel xcaret arte and la casa de la playa offer extra beds?\n",
      "[[0.39045852]]\n",
      "are there any vegetarian or vegan options in the restaurants of hotel xcaret mexico, hotel xcaret arte and la casa de la playa?\n",
      "[[0.442312]]\n",
      "are restaurants and bars open in all seasons?\n",
      "[[0.37815177]]\n",
      "do i need to book my airport-hotel shuttle?\n",
      "[[0.49435794]]\n",
      "do hotel xcaret mexico, hotel xcaret arte and la casa de la playa have any sport facilities?\n",
      "[[0.4032565]]\n",
      "is wifi included at hotel xcaret mexico, hotel xcaret arte and la casa de la playa?\n",
      "[[0.46316552]]\n",
      "do visits to parks of grupo xcaret require booking?\n",
      "[[0.3906564]]\n",
      "are hotel xcaret mexico, hotel xcaret arte and la casa de la playa pet-friendly?\n",
      "[[0.4381262]]\n",
      "do hotel xcaret mexico, hotel xcaret arte and la casa de la playa offer special packages for weddings or honeymoon?\n",
      "[[0.37248865]]\n",
      "how can i get an estimate for a wedding?\n",
      "[[0.59844977]]\n",
      "how can i get an estimate for a group stay?\n",
      "[[0.56750494]]\n",
      "does my stay at hotel xcaret mexico, hotel xcaret arte or la casa de la playa include access to the parks from grupo xcaret?\n",
      "[[0.37574273]]\n",
      "does my stay at hotel xcaret mexico, hotel xcaret arte, or la casa de la playa include the ferry to isla mujeres by xcaret xailing?\n",
      "[[0.39386135]]\n",
      "do i need to book a minimum number of nights during my stay at hotel xcaret mexico, hotel xcaret arte or la casa de la playa, in order to enjoy the parks of grupo xcaret?\n",
      "[[0.3515069]]\n",
      "are my meals and beverages included during my stay at hotel xcaret mexico, hotel xcaret arte or la casa de la playa?\n",
      "[[0.2941516]]\n",
      "are food and beverages at the park included in the parks?\n",
      "[[0.45464057]]\n",
      "how can i get to the parks of grupo xcaret during my stay at hotel xcaret mexico, hotel xcaret arte or la casa de la playa?\n",
      "[[0.4272994]]\n",
      "are the artistic workshops only included for hotel xcaret arte guests?\n",
      "[[0.40744337]]\n",
      "are the muluk spa treatments included in my stay?\n",
      "[[0.36385876]]\n",
      "are the optional activities in the parks and tours included in my stay?\n",
      "[[0.35411197]]\n",
      "are photos taken at the parks that i will visit, included in my stay?\n",
      "[[0.3670407]]\n",
      "are photos in hotel xcaret mexico, hotel xcaret arte or la casa de la playa included?\n",
      "[[0.3836671]]\n"
     ]
    }
   ],
   "source": [
    "for i in sent_tokens:\n",
    "    v2 = model.infer_vector(word_tokenize(i.lower()))\n",
    "    print(i)\n",
    "    print(cosine_similarity(v1.reshape(1, -1),v2.reshape(1, -1)))"
   ]
  },
  {
   "cell_type": "code",
   "execution_count": 51,
   "metadata": {
    "executionInfo": {
     "elapsed": 14,
     "status": "ok",
     "timestamp": 1625202451520,
     "user": {
      "displayName": "Albert Anthony",
      "photoUrl": "",
      "userId": "06779463251817115427"
     },
     "user_tz": -420
    },
    "id": "cGEBbf8eaTGu"
   },
   "outputs": [],
   "source": [
    "def calc_prob(v1, q):\n",
    "    probs = dict()\n",
    "    for i in q:\n",
    "        v2 = model.infer_vector(word_tokenize(i.lower()))\n",
    "        sim = cosine_similarity(v1.reshape(1, -1),v2.reshape(1, -1))\n",
    "        #print(i)\n",
    "        #print(sim)\n",
    "        probs[i] = sim[0][0]\n",
    "    sorted_d = dict( sorted(probs.items(), key=operator.itemgetter(1),reverse=True))\n",
    "    \n",
    "    return list(sorted_d.items())[0]"
   ]
  },
  {
   "cell_type": "code",
   "execution_count": 52,
   "metadata": {
    "colab": {
     "base_uri": "https://localhost:8080/"
    },
    "executionInfo": {
     "elapsed": 13,
     "status": "ok",
     "timestamp": 1625202451520,
     "user": {
      "displayName": "Albert Anthony",
      "photoUrl": "",
      "userId": "06779463251817115427"
     },
     "user_tz": -420
    },
    "id": "NFb4-p0faTGu",
    "outputId": "0cd58c0a-2388-412a-c85c-a0b58d65ba1f"
   },
   "outputs": [
    {
     "data": {
      "text/plain": [
       "('what is the maximum capacity of each suite?', 0.67376584)"
      ]
     },
     "execution_count": 52,
     "metadata": {},
     "output_type": "execute_result"
    }
   ],
   "source": [
    "calc_prob(v1, sent_tokens)"
   ]
  },
  {
   "cell_type": "markdown",
   "metadata": {
    "id": "ISG0dPL8aTGv"
   },
   "source": [
    "Since it appears that this model is more effective lets incorporate it into our chatbot.\n"
   ]
  },
  {
   "cell_type": "code",
   "execution_count": 53,
   "metadata": {
    "colab": {
     "base_uri": "https://localhost:8080/",
     "height": 565
    },
    "executionInfo": {
     "elapsed": 12433,
     "status": "error",
     "timestamp": 1625202463943,
     "user": {
      "displayName": "Albert Anthony",
      "photoUrl": "",
      "userId": "06779463251817115427"
     },
     "user_tz": -420
    },
    "id": "S8JaMj8TaTGv",
    "outputId": "32ea27c9-eb69-4808-b6bc-fc6c6bbef947"
   },
   "outputs": [
    {
     "name": "stdout",
     "output_type": "stream",
     "text": [
      "Jane: My name is Jane. I will answer your queries about this hotel. If you want to exit, type Bye!\n",
      "where is xcaret?\n",
      "Jane: Hotel Xcaret Arte is located in front of the Caribbean Sea, next to Hotel Xcaret Mexico 15 minutes away from Playa del Carmen 45 minutes away from Cancun International Airport 45 minutes away.\n",
      " (With similarity of  0.72526443 )\n",
      "what is the maximum capacity?\n",
      "Jane: The suites have a maximum capacity of 3 people, depending on the category, In the Master Suite category 5 people are allowed, and in the Presidential Suite, up to 6 people.\n",
      " (With similarity of  0.87497884 )\n",
      "Which types of payments you accept?\n",
      "Jane: At the time of booking we will provide you a section where you will be able to send us your requests, Please note that any request will be subject to availability and/or may result in additional charges.\n",
      " (With similarity of  0.59951556 )\n",
      "What are the payment methods?\n",
      "Jane: We accept Visa, MasterCard and American Express credit cards, if you need to pay with two different cards, please call our Contact Center.\n",
      " (With similarity of  0.68910146 )\n",
      "are the hotels beach front?\n",
      "Jane: Yes for your comfort and enjoyment, the hotels are beach front and have signalized accesses.\n",
      " (With similarity of  0.7826387 )\n",
      "can I smoke?\n",
      "Jane: No, you can't, The suites are non-smoking.\n",
      " (With similarity of  0.86667544 )\n",
      "is Wifi included?\n",
      "Jane: Yes, WIFI is included in every area and suite.\n",
      " (With similarity of  0.7703317 )\n",
      "Breakfast is included?\n",
      "Jane: Yes, WIFI is included in every area and suite.\n",
      " (With similarity of  0.67576355 )\n",
      "What are the cancellation rules?\n",
      "Jane: Hotel Xcaret Mexico and Hotel Xcaret Art own 900 suites and La Casa de la Playa owns 63 suites.\n",
      " (With similarity of  0.5916738 )\n",
      "do you have late check-out?\n",
      "Jane: The hotels offer early check-in (13:00 h) and late check-out (14:00 h) services, subject to availability and additional charges, If you arrive before the check-in, we have a section available to hold your luggage.\n",
      " (With similarity of  0.7072655 )\n",
      "gracias bye\n",
      "Jane: The hotels do no offer the extra beds service, however, each suite has a double sofa-bed.\n",
      " (With similarity of  0.39371356 )\n",
      "bye\n",
      "Jane: Bye! take care..\n"
     ]
    }
   ],
   "source": [
    "flag=True\n",
    "print(\"Jane: My name is Jane. I will answer your queries about this hotel. If you want to exit, type Bye!\")\n",
    "while(flag==True):\n",
    "    user_response = input()\n",
    "    user_response=user_response.lower()\n",
    "    if(user_response!='bye'):\n",
    "        if(user_response=='thanks' or user_response=='thank you' ):\n",
    "            flag=False\n",
    "            print(\"Jane: You are welcome..\")\n",
    "        else:\n",
    "            if(greeting(user_response)!=None):\n",
    "                print(\"Jane: \"+greeting(user_response))\n",
    "\n",
    "            else:\n",
    "                print(\"Jane: \",end=\"\")\n",
    "                resp= calc_prob(model.infer_vector(word_tokenize(user_response)), sent_tokens)\n",
    "                print(res[resp[0]], )\n",
    "                print(' (With similarity of ',resp[1],')')\n",
    "\n",
    "    else:\n",
    "        flag=False\n",
    "        print(\"Jane: Bye! take care..\")"
   ]
  },
  {
   "cell_type": "markdown",
   "metadata": {
    "id": "g55PaQhWputU"
   },
   "source": [
    "**After observing the performance** of both of the models there are some clear conclusions that we can draw from this:\n",
    "\n",
    "1. The Doc2vec model requires a lot more data for it to understand the relationship between words. And even after using a pre-trained model there is a clear lack of quality in the responses from the model compared to the cosine similarity model. \n",
    "2. The cosine similarity model works better for a smaller and more well defined dataset. This means that a few simple questions can be solved effectively but complex questions that require context wont be solved by it. "
   ]
  },
  {
   "cell_type": "markdown",
   "metadata": {
    "executionInfo": {
     "elapsed": 10,
     "status": "aborted",
     "timestamp": 1625201945306,
     "user": {
      "displayName": "Albert Anthony",
      "photoUrl": "",
      "userId": "06779463251817115427"
     },
     "user_tz": -420
    },
    "id": "C2siuK5KlRah"
   },
   "source": [
    "Questions and answers reference >> https://www.hotelxcaret.com/en/faqs/"
   ]
  }
 ],
 "metadata": {
  "colab": {
   "collapsed_sections": [],
   "name": "Notebook_Module_27_Hotel_Chatbot.ipynb",
   "provenance": []
  },
  "kernelspec": {
   "display_name": "Python 3 (ipykernel)",
   "language": "python",
   "name": "python3"
  },
  "language_info": {
   "codemirror_mode": {
    "name": "ipython",
    "version": 3
   },
   "file_extension": ".py",
   "mimetype": "text/x-python",
   "name": "python",
   "nbconvert_exporter": "python",
   "pygments_lexer": "ipython3",
   "version": "3.9.7"
  }
 },
 "nbformat": 4,
 "nbformat_minor": 1
}
